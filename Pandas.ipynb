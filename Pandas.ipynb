{
 "cells": [
  {
   "cell_type": "code",
   "execution_count": 2,
   "metadata": {
    "collapsed": true
   },
   "outputs": [],
   "source": [
    "import pandas as pd"
   ]
  },
  {
   "cell_type": "code",
   "execution_count": 3,
   "metadata": {
    "collapsed": true
   },
   "outputs": [],
   "source": [
    "import numpy as np"
   ]
  },
  {
   "cell_type": "code",
   "execution_count": 4,
   "metadata": {
    "collapsed": true
   },
   "outputs": [],
   "source": [
    "import matplotlib.pyplot as plt"
   ]
  },
  {
   "cell_type": "code",
   "execution_count": 5,
   "metadata": {
    "collapsed": true
   },
   "outputs": [],
   "source": [
    "#creating a series\n",
    "s=pd.Series([1,2,5,np.nan,4,8])"
   ]
  },
  {
   "cell_type": "code",
   "execution_count": 6,
   "metadata": {
    "collapsed": false
   },
   "outputs": [
    {
     "data": {
      "text/plain": [
       "0    1.0\n",
       "1    2.0\n",
       "2    5.0\n",
       "3    NaN\n",
       "4    4.0\n",
       "5    8.0\n",
       "dtype: float64"
      ]
     },
     "execution_count": 6,
     "metadata": {},
     "output_type": "execute_result"
    }
   ],
   "source": [
    "s"
   ]
  },
  {
   "cell_type": "code",
   "execution_count": 7,
   "metadata": {
    "collapsed": true
   },
   "outputs": [],
   "source": [
    "date=pd.date_range('20170810',periods=7)"
   ]
  },
  {
   "cell_type": "code",
   "execution_count": 10,
   "metadata": {
    "collapsed": false
   },
   "outputs": [
    {
     "data": {
      "text/plain": [
       "DatetimeIndex(['2017-08-10', '2017-08-11', '2017-08-12', '2017-08-13',\n",
       "               '2017-08-14', '2017-08-15', '2017-08-16'],\n",
       "              dtype='datetime64[ns]', freq='D')"
      ]
     },
     "execution_count": 10,
     "metadata": {},
     "output_type": "execute_result"
    }
   ],
   "source": [
    "date\n"
   ]
  },
  {
   "cell_type": "code",
   "execution_count": 25,
   "metadata": {
    "collapsed": false
   },
   "outputs": [],
   "source": [
    "df=pd.DataFrame(np.random.randn(7,5),index=date, columns=list('ABCDE'))"
   ]
  },
  {
   "cell_type": "code",
   "execution_count": 26,
   "metadata": {
    "collapsed": false
   },
   "outputs": [
    {
     "data": {
      "text/html": [
       "<div>\n",
       "<style>\n",
       "    .dataframe thead tr:only-child th {\n",
       "        text-align: right;\n",
       "    }\n",
       "\n",
       "    .dataframe thead th {\n",
       "        text-align: left;\n",
       "    }\n",
       "\n",
       "    .dataframe tbody tr th {\n",
       "        vertical-align: top;\n",
       "    }\n",
       "</style>\n",
       "<table border=\"1\" class=\"dataframe\">\n",
       "  <thead>\n",
       "    <tr style=\"text-align: right;\">\n",
       "      <th></th>\n",
       "      <th>A</th>\n",
       "      <th>B</th>\n",
       "      <th>C</th>\n",
       "      <th>D</th>\n",
       "      <th>E</th>\n",
       "    </tr>\n",
       "  </thead>\n",
       "  <tbody>\n",
       "    <tr>\n",
       "      <th>2017-08-10</th>\n",
       "      <td>-0.921352</td>\n",
       "      <td>0.666604</td>\n",
       "      <td>2.041884</td>\n",
       "      <td>-0.334518</td>\n",
       "      <td>-0.668301</td>\n",
       "    </tr>\n",
       "    <tr>\n",
       "      <th>2017-08-11</th>\n",
       "      <td>0.339813</td>\n",
       "      <td>1.206670</td>\n",
       "      <td>-1.518777</td>\n",
       "      <td>1.420594</td>\n",
       "      <td>0.644696</td>\n",
       "    </tr>\n",
       "    <tr>\n",
       "      <th>2017-08-12</th>\n",
       "      <td>-0.586532</td>\n",
       "      <td>-0.738926</td>\n",
       "      <td>-2.012583</td>\n",
       "      <td>0.555280</td>\n",
       "      <td>-1.776053</td>\n",
       "    </tr>\n",
       "    <tr>\n",
       "      <th>2017-08-13</th>\n",
       "      <td>0.023078</td>\n",
       "      <td>1.550599</td>\n",
       "      <td>0.530515</td>\n",
       "      <td>-0.270770</td>\n",
       "      <td>1.376891</td>\n",
       "    </tr>\n",
       "    <tr>\n",
       "      <th>2017-08-14</th>\n",
       "      <td>0.338708</td>\n",
       "      <td>0.568376</td>\n",
       "      <td>-0.245413</td>\n",
       "      <td>-1.129384</td>\n",
       "      <td>-0.748232</td>\n",
       "    </tr>\n",
       "    <tr>\n",
       "      <th>2017-08-15</th>\n",
       "      <td>-0.840217</td>\n",
       "      <td>1.236068</td>\n",
       "      <td>-1.542707</td>\n",
       "      <td>-1.360066</td>\n",
       "      <td>0.247415</td>\n",
       "    </tr>\n",
       "    <tr>\n",
       "      <th>2017-08-16</th>\n",
       "      <td>-0.055317</td>\n",
       "      <td>-0.080471</td>\n",
       "      <td>-1.815254</td>\n",
       "      <td>-0.739254</td>\n",
       "      <td>1.173256</td>\n",
       "    </tr>\n",
       "  </tbody>\n",
       "</table>\n",
       "</div>"
      ],
      "text/plain": [
       "                   A         B         C         D         E\n",
       "2017-08-10 -0.921352  0.666604  2.041884 -0.334518 -0.668301\n",
       "2017-08-11  0.339813  1.206670 -1.518777  1.420594  0.644696\n",
       "2017-08-12 -0.586532 -0.738926 -2.012583  0.555280 -1.776053\n",
       "2017-08-13  0.023078  1.550599  0.530515 -0.270770  1.376891\n",
       "2017-08-14  0.338708  0.568376 -0.245413 -1.129384 -0.748232\n",
       "2017-08-15 -0.840217  1.236068 -1.542707 -1.360066  0.247415\n",
       "2017-08-16 -0.055317 -0.080471 -1.815254 -0.739254  1.173256"
      ]
     },
     "execution_count": 26,
     "metadata": {},
     "output_type": "execute_result"
    }
   ],
   "source": [
    "df"
   ]
  },
  {
   "cell_type": "code",
   "execution_count": 32,
   "metadata": {
    "collapsed": false
   },
   "outputs": [],
   "source": [
    "df2=pd.DataFrame({'A':1.,\n",
    "                 'B':pd.Timestamp('20170811'),\n",
    "                 'C':pd.Series(1,index=list(range(4)),dtype='float32'),\n",
    "                 'D':np.array([3]*4, dtype='int32'),\n",
    "                 'E':pd.Categorical([\"test\",\"train\",\"test\",\"train\"]),\n",
    "                 'F':'foo'})"
   ]
  },
  {
   "cell_type": "code",
   "execution_count": 33,
   "metadata": {
    "collapsed": false
   },
   "outputs": [
    {
     "data": {
      "text/html": [
       "<div>\n",
       "<style>\n",
       "    .dataframe thead tr:only-child th {\n",
       "        text-align: right;\n",
       "    }\n",
       "\n",
       "    .dataframe thead th {\n",
       "        text-align: left;\n",
       "    }\n",
       "\n",
       "    .dataframe tbody tr th {\n",
       "        vertical-align: top;\n",
       "    }\n",
       "</style>\n",
       "<table border=\"1\" class=\"dataframe\">\n",
       "  <thead>\n",
       "    <tr style=\"text-align: right;\">\n",
       "      <th></th>\n",
       "      <th>A</th>\n",
       "      <th>B</th>\n",
       "      <th>C</th>\n",
       "      <th>D</th>\n",
       "      <th>E</th>\n",
       "      <th>F</th>\n",
       "    </tr>\n",
       "  </thead>\n",
       "  <tbody>\n",
       "    <tr>\n",
       "      <th>0</th>\n",
       "      <td>1.0</td>\n",
       "      <td>2017-08-11</td>\n",
       "      <td>1.0</td>\n",
       "      <td>3</td>\n",
       "      <td>test</td>\n",
       "      <td>foo</td>\n",
       "    </tr>\n",
       "    <tr>\n",
       "      <th>1</th>\n",
       "      <td>1.0</td>\n",
       "      <td>2017-08-11</td>\n",
       "      <td>1.0</td>\n",
       "      <td>3</td>\n",
       "      <td>train</td>\n",
       "      <td>foo</td>\n",
       "    </tr>\n",
       "    <tr>\n",
       "      <th>2</th>\n",
       "      <td>1.0</td>\n",
       "      <td>2017-08-11</td>\n",
       "      <td>1.0</td>\n",
       "      <td>3</td>\n",
       "      <td>test</td>\n",
       "      <td>foo</td>\n",
       "    </tr>\n",
       "    <tr>\n",
       "      <th>3</th>\n",
       "      <td>1.0</td>\n",
       "      <td>2017-08-11</td>\n",
       "      <td>1.0</td>\n",
       "      <td>3</td>\n",
       "      <td>train</td>\n",
       "      <td>foo</td>\n",
       "    </tr>\n",
       "  </tbody>\n",
       "</table>\n",
       "</div>"
      ],
      "text/plain": [
       "     A          B    C  D      E    F\n",
       "0  1.0 2017-08-11  1.0  3   test  foo\n",
       "1  1.0 2017-08-11  1.0  3  train  foo\n",
       "2  1.0 2017-08-11  1.0  3   test  foo\n",
       "3  1.0 2017-08-11  1.0  3  train  foo"
      ]
     },
     "execution_count": 33,
     "metadata": {},
     "output_type": "execute_result"
    }
   ],
   "source": [
    "df2\n"
   ]
  },
  {
   "cell_type": "code",
   "execution_count": 34,
   "metadata": {
    "collapsed": false
   },
   "outputs": [
    {
     "data": {
      "text/plain": [
       "A           float64\n",
       "B    datetime64[ns]\n",
       "C           float32\n",
       "D             int32\n",
       "E          category\n",
       "F            object\n",
       "dtype: object"
      ]
     },
     "execution_count": 34,
     "metadata": {},
     "output_type": "execute_result"
    }
   ],
   "source": [
    "df2.dtypes"
   ]
  },
  {
   "cell_type": "code",
   "execution_count": 36,
   "metadata": {
    "collapsed": false
   },
   "outputs": [
    {
     "data": {
      "text/html": [
       "<div>\n",
       "<style>\n",
       "    .dataframe thead tr:only-child th {\n",
       "        text-align: right;\n",
       "    }\n",
       "\n",
       "    .dataframe thead th {\n",
       "        text-align: left;\n",
       "    }\n",
       "\n",
       "    .dataframe tbody tr th {\n",
       "        vertical-align: top;\n",
       "    }\n",
       "</style>\n",
       "<table border=\"1\" class=\"dataframe\">\n",
       "  <thead>\n",
       "    <tr style=\"text-align: right;\">\n",
       "      <th></th>\n",
       "      <th>A</th>\n",
       "      <th>B</th>\n",
       "      <th>C</th>\n",
       "      <th>D</th>\n",
       "      <th>E</th>\n",
       "    </tr>\n",
       "  </thead>\n",
       "  <tbody>\n",
       "    <tr>\n",
       "      <th>2017-08-10</th>\n",
       "      <td>-0.921352</td>\n",
       "      <td>0.666604</td>\n",
       "      <td>2.041884</td>\n",
       "      <td>-0.334518</td>\n",
       "      <td>-0.668301</td>\n",
       "    </tr>\n",
       "    <tr>\n",
       "      <th>2017-08-11</th>\n",
       "      <td>0.339813</td>\n",
       "      <td>1.206670</td>\n",
       "      <td>-1.518777</td>\n",
       "      <td>1.420594</td>\n",
       "      <td>0.644696</td>\n",
       "    </tr>\n",
       "    <tr>\n",
       "      <th>2017-08-12</th>\n",
       "      <td>-0.586532</td>\n",
       "      <td>-0.738926</td>\n",
       "      <td>-2.012583</td>\n",
       "      <td>0.555280</td>\n",
       "      <td>-1.776053</td>\n",
       "    </tr>\n",
       "    <tr>\n",
       "      <th>2017-08-13</th>\n",
       "      <td>0.023078</td>\n",
       "      <td>1.550599</td>\n",
       "      <td>0.530515</td>\n",
       "      <td>-0.270770</td>\n",
       "      <td>1.376891</td>\n",
       "    </tr>\n",
       "    <tr>\n",
       "      <th>2017-08-14</th>\n",
       "      <td>0.338708</td>\n",
       "      <td>0.568376</td>\n",
       "      <td>-0.245413</td>\n",
       "      <td>-1.129384</td>\n",
       "      <td>-0.748232</td>\n",
       "    </tr>\n",
       "  </tbody>\n",
       "</table>\n",
       "</div>"
      ],
      "text/plain": [
       "                   A         B         C         D         E\n",
       "2017-08-10 -0.921352  0.666604  2.041884 -0.334518 -0.668301\n",
       "2017-08-11  0.339813  1.206670 -1.518777  1.420594  0.644696\n",
       "2017-08-12 -0.586532 -0.738926 -2.012583  0.555280 -1.776053\n",
       "2017-08-13  0.023078  1.550599  0.530515 -0.270770  1.376891\n",
       "2017-08-14  0.338708  0.568376 -0.245413 -1.129384 -0.748232"
      ]
     },
     "execution_count": 36,
     "metadata": {},
     "output_type": "execute_result"
    }
   ],
   "source": [
    "#viewing data\n",
    "df.head() #first 5 values"
   ]
  },
  {
   "cell_type": "code",
   "execution_count": 37,
   "metadata": {
    "collapsed": false
   },
   "outputs": [
    {
     "data": {
      "text/html": [
       "<div>\n",
       "<style>\n",
       "    .dataframe thead tr:only-child th {\n",
       "        text-align: right;\n",
       "    }\n",
       "\n",
       "    .dataframe thead th {\n",
       "        text-align: left;\n",
       "    }\n",
       "\n",
       "    .dataframe tbody tr th {\n",
       "        vertical-align: top;\n",
       "    }\n",
       "</style>\n",
       "<table border=\"1\" class=\"dataframe\">\n",
       "  <thead>\n",
       "    <tr style=\"text-align: right;\">\n",
       "      <th></th>\n",
       "      <th>A</th>\n",
       "      <th>B</th>\n",
       "      <th>C</th>\n",
       "      <th>D</th>\n",
       "      <th>E</th>\n",
       "    </tr>\n",
       "  </thead>\n",
       "  <tbody>\n",
       "    <tr>\n",
       "      <th>2017-08-14</th>\n",
       "      <td>0.338708</td>\n",
       "      <td>0.568376</td>\n",
       "      <td>-0.245413</td>\n",
       "      <td>-1.129384</td>\n",
       "      <td>-0.748232</td>\n",
       "    </tr>\n",
       "    <tr>\n",
       "      <th>2017-08-15</th>\n",
       "      <td>-0.840217</td>\n",
       "      <td>1.236068</td>\n",
       "      <td>-1.542707</td>\n",
       "      <td>-1.360066</td>\n",
       "      <td>0.247415</td>\n",
       "    </tr>\n",
       "    <tr>\n",
       "      <th>2017-08-16</th>\n",
       "      <td>-0.055317</td>\n",
       "      <td>-0.080471</td>\n",
       "      <td>-1.815254</td>\n",
       "      <td>-0.739254</td>\n",
       "      <td>1.173256</td>\n",
       "    </tr>\n",
       "  </tbody>\n",
       "</table>\n",
       "</div>"
      ],
      "text/plain": [
       "                   A         B         C         D         E\n",
       "2017-08-14  0.338708  0.568376 -0.245413 -1.129384 -0.748232\n",
       "2017-08-15 -0.840217  1.236068 -1.542707 -1.360066  0.247415\n",
       "2017-08-16 -0.055317 -0.080471 -1.815254 -0.739254  1.173256"
      ]
     },
     "execution_count": 37,
     "metadata": {},
     "output_type": "execute_result"
    }
   ],
   "source": [
    "df.tail(3)# last 3 values"
   ]
  },
  {
   "cell_type": "code",
   "execution_count": 38,
   "metadata": {
    "collapsed": false
   },
   "outputs": [
    {
     "data": {
      "text/plain": [
       "DatetimeIndex(['2017-08-10', '2017-08-11', '2017-08-12', '2017-08-13',\n",
       "               '2017-08-14', '2017-08-15', '2017-08-16'],\n",
       "              dtype='datetime64[ns]', freq='D')"
      ]
     },
     "execution_count": 38,
     "metadata": {},
     "output_type": "execute_result"
    }
   ],
   "source": [
    "df.index"
   ]
  },
  {
   "cell_type": "code",
   "execution_count": 39,
   "metadata": {
    "collapsed": false
   },
   "outputs": [
    {
     "data": {
      "text/plain": [
       "Index([u'A', u'B', u'C', u'D', u'E'], dtype='object')"
      ]
     },
     "execution_count": 39,
     "metadata": {},
     "output_type": "execute_result"
    }
   ],
   "source": [
    "df.columns"
   ]
  },
  {
   "cell_type": "code",
   "execution_count": 40,
   "metadata": {
    "collapsed": false
   },
   "outputs": [
    {
     "data": {
      "text/html": [
       "<div>\n",
       "<style>\n",
       "    .dataframe thead tr:only-child th {\n",
       "        text-align: right;\n",
       "    }\n",
       "\n",
       "    .dataframe thead th {\n",
       "        text-align: left;\n",
       "    }\n",
       "\n",
       "    .dataframe tbody tr th {\n",
       "        vertical-align: top;\n",
       "    }\n",
       "</style>\n",
       "<table border=\"1\" class=\"dataframe\">\n",
       "  <thead>\n",
       "    <tr style=\"text-align: right;\">\n",
       "      <th></th>\n",
       "      <th>A</th>\n",
       "      <th>B</th>\n",
       "      <th>C</th>\n",
       "      <th>D</th>\n",
       "      <th>E</th>\n",
       "    </tr>\n",
       "  </thead>\n",
       "  <tbody>\n",
       "    <tr>\n",
       "      <th>count</th>\n",
       "      <td>7.000000</td>\n",
       "      <td>7.000000</td>\n",
       "      <td>7.000000</td>\n",
       "      <td>7.000000</td>\n",
       "      <td>7.000000</td>\n",
       "    </tr>\n",
       "    <tr>\n",
       "      <th>mean</th>\n",
       "      <td>-0.243117</td>\n",
       "      <td>0.629846</td>\n",
       "      <td>-0.651762</td>\n",
       "      <td>-0.265445</td>\n",
       "      <td>0.035667</td>\n",
       "    </tr>\n",
       "    <tr>\n",
       "      <th>std</th>\n",
       "      <td>0.535245</td>\n",
       "      <td>0.809448</td>\n",
       "      <td>1.503866</td>\n",
       "      <td>0.973841</td>\n",
       "      <td>1.147544</td>\n",
       "    </tr>\n",
       "    <tr>\n",
       "      <th>min</th>\n",
       "      <td>-0.921352</td>\n",
       "      <td>-0.738926</td>\n",
       "      <td>-2.012583</td>\n",
       "      <td>-1.360066</td>\n",
       "      <td>-1.776053</td>\n",
       "    </tr>\n",
       "    <tr>\n",
       "      <th>25%</th>\n",
       "      <td>-0.713375</td>\n",
       "      <td>0.243952</td>\n",
       "      <td>-1.678981</td>\n",
       "      <td>-0.934319</td>\n",
       "      <td>-0.708267</td>\n",
       "    </tr>\n",
       "    <tr>\n",
       "      <th>50%</th>\n",
       "      <td>-0.055317</td>\n",
       "      <td>0.666604</td>\n",
       "      <td>-1.518777</td>\n",
       "      <td>-0.334518</td>\n",
       "      <td>0.247415</td>\n",
       "    </tr>\n",
       "    <tr>\n",
       "      <th>75%</th>\n",
       "      <td>0.180893</td>\n",
       "      <td>1.221369</td>\n",
       "      <td>0.142551</td>\n",
       "      <td>0.142255</td>\n",
       "      <td>0.908976</td>\n",
       "    </tr>\n",
       "    <tr>\n",
       "      <th>max</th>\n",
       "      <td>0.339813</td>\n",
       "      <td>1.550599</td>\n",
       "      <td>2.041884</td>\n",
       "      <td>1.420594</td>\n",
       "      <td>1.376891</td>\n",
       "    </tr>\n",
       "  </tbody>\n",
       "</table>\n",
       "</div>"
      ],
      "text/plain": [
       "              A         B         C         D         E\n",
       "count  7.000000  7.000000  7.000000  7.000000  7.000000\n",
       "mean  -0.243117  0.629846 -0.651762 -0.265445  0.035667\n",
       "std    0.535245  0.809448  1.503866  0.973841  1.147544\n",
       "min   -0.921352 -0.738926 -2.012583 -1.360066 -1.776053\n",
       "25%   -0.713375  0.243952 -1.678981 -0.934319 -0.708267\n",
       "50%   -0.055317  0.666604 -1.518777 -0.334518  0.247415\n",
       "75%    0.180893  1.221369  0.142551  0.142255  0.908976\n",
       "max    0.339813  1.550599  2.041884  1.420594  1.376891"
      ]
     },
     "execution_count": 40,
     "metadata": {},
     "output_type": "execute_result"
    }
   ],
   "source": [
    "df.describe()"
   ]
  },
  {
   "cell_type": "code",
   "execution_count": 41,
   "metadata": {
    "collapsed": false
   },
   "outputs": [
    {
     "data": {
      "text/html": [
       "<div>\n",
       "<style>\n",
       "    .dataframe thead tr:only-child th {\n",
       "        text-align: right;\n",
       "    }\n",
       "\n",
       "    .dataframe thead th {\n",
       "        text-align: left;\n",
       "    }\n",
       "\n",
       "    .dataframe tbody tr th {\n",
       "        vertical-align: top;\n",
       "    }\n",
       "</style>\n",
       "<table border=\"1\" class=\"dataframe\">\n",
       "  <thead>\n",
       "    <tr style=\"text-align: right;\">\n",
       "      <th></th>\n",
       "      <th>2017-08-10 00:00:00</th>\n",
       "      <th>2017-08-11 00:00:00</th>\n",
       "      <th>2017-08-12 00:00:00</th>\n",
       "      <th>2017-08-13 00:00:00</th>\n",
       "      <th>2017-08-14 00:00:00</th>\n",
       "      <th>2017-08-15 00:00:00</th>\n",
       "      <th>2017-08-16 00:00:00</th>\n",
       "    </tr>\n",
       "  </thead>\n",
       "  <tbody>\n",
       "    <tr>\n",
       "      <th>A</th>\n",
       "      <td>-0.921352</td>\n",
       "      <td>0.339813</td>\n",
       "      <td>-0.586532</td>\n",
       "      <td>0.023078</td>\n",
       "      <td>0.338708</td>\n",
       "      <td>-0.840217</td>\n",
       "      <td>-0.055317</td>\n",
       "    </tr>\n",
       "    <tr>\n",
       "      <th>B</th>\n",
       "      <td>0.666604</td>\n",
       "      <td>1.206670</td>\n",
       "      <td>-0.738926</td>\n",
       "      <td>1.550599</td>\n",
       "      <td>0.568376</td>\n",
       "      <td>1.236068</td>\n",
       "      <td>-0.080471</td>\n",
       "    </tr>\n",
       "    <tr>\n",
       "      <th>C</th>\n",
       "      <td>2.041884</td>\n",
       "      <td>-1.518777</td>\n",
       "      <td>-2.012583</td>\n",
       "      <td>0.530515</td>\n",
       "      <td>-0.245413</td>\n",
       "      <td>-1.542707</td>\n",
       "      <td>-1.815254</td>\n",
       "    </tr>\n",
       "    <tr>\n",
       "      <th>D</th>\n",
       "      <td>-0.334518</td>\n",
       "      <td>1.420594</td>\n",
       "      <td>0.555280</td>\n",
       "      <td>-0.270770</td>\n",
       "      <td>-1.129384</td>\n",
       "      <td>-1.360066</td>\n",
       "      <td>-0.739254</td>\n",
       "    </tr>\n",
       "    <tr>\n",
       "      <th>E</th>\n",
       "      <td>-0.668301</td>\n",
       "      <td>0.644696</td>\n",
       "      <td>-1.776053</td>\n",
       "      <td>1.376891</td>\n",
       "      <td>-0.748232</td>\n",
       "      <td>0.247415</td>\n",
       "      <td>1.173256</td>\n",
       "    </tr>\n",
       "  </tbody>\n",
       "</table>\n",
       "</div>"
      ],
      "text/plain": [
       "   2017-08-10  2017-08-11  2017-08-12  2017-08-13  2017-08-14  2017-08-15  \\\n",
       "A   -0.921352    0.339813   -0.586532    0.023078    0.338708   -0.840217   \n",
       "B    0.666604    1.206670   -0.738926    1.550599    0.568376    1.236068   \n",
       "C    2.041884   -1.518777   -2.012583    0.530515   -0.245413   -1.542707   \n",
       "D   -0.334518    1.420594    0.555280   -0.270770   -1.129384   -1.360066   \n",
       "E   -0.668301    0.644696   -1.776053    1.376891   -0.748232    0.247415   \n",
       "\n",
       "   2017-08-16  \n",
       "A   -0.055317  \n",
       "B   -0.080471  \n",
       "C   -1.815254  \n",
       "D   -0.739254  \n",
       "E    1.173256  "
      ]
     },
     "execution_count": 41,
     "metadata": {},
     "output_type": "execute_result"
    }
   ],
   "source": [
    "#transposing the data\n",
    "df.T"
   ]
  },
  {
   "cell_type": "code",
   "execution_count": 45,
   "metadata": {
    "collapsed": false
   },
   "outputs": [
    {
     "data": {
      "text/html": [
       "<div>\n",
       "<style>\n",
       "    .dataframe thead tr:only-child th {\n",
       "        text-align: right;\n",
       "    }\n",
       "\n",
       "    .dataframe thead th {\n",
       "        text-align: left;\n",
       "    }\n",
       "\n",
       "    .dataframe tbody tr th {\n",
       "        vertical-align: top;\n",
       "    }\n",
       "</style>\n",
       "<table border=\"1\" class=\"dataframe\">\n",
       "  <thead>\n",
       "    <tr style=\"text-align: right;\">\n",
       "      <th></th>\n",
       "      <th>E</th>\n",
       "      <th>D</th>\n",
       "      <th>C</th>\n",
       "      <th>B</th>\n",
       "      <th>A</th>\n",
       "    </tr>\n",
       "  </thead>\n",
       "  <tbody>\n",
       "    <tr>\n",
       "      <th>2017-08-10</th>\n",
       "      <td>-0.668301</td>\n",
       "      <td>-0.334518</td>\n",
       "      <td>2.041884</td>\n",
       "      <td>0.666604</td>\n",
       "      <td>-0.921352</td>\n",
       "    </tr>\n",
       "    <tr>\n",
       "      <th>2017-08-11</th>\n",
       "      <td>0.644696</td>\n",
       "      <td>1.420594</td>\n",
       "      <td>-1.518777</td>\n",
       "      <td>1.206670</td>\n",
       "      <td>0.339813</td>\n",
       "    </tr>\n",
       "    <tr>\n",
       "      <th>2017-08-12</th>\n",
       "      <td>-1.776053</td>\n",
       "      <td>0.555280</td>\n",
       "      <td>-2.012583</td>\n",
       "      <td>-0.738926</td>\n",
       "      <td>-0.586532</td>\n",
       "    </tr>\n",
       "    <tr>\n",
       "      <th>2017-08-13</th>\n",
       "      <td>1.376891</td>\n",
       "      <td>-0.270770</td>\n",
       "      <td>0.530515</td>\n",
       "      <td>1.550599</td>\n",
       "      <td>0.023078</td>\n",
       "    </tr>\n",
       "    <tr>\n",
       "      <th>2017-08-14</th>\n",
       "      <td>-0.748232</td>\n",
       "      <td>-1.129384</td>\n",
       "      <td>-0.245413</td>\n",
       "      <td>0.568376</td>\n",
       "      <td>0.338708</td>\n",
       "    </tr>\n",
       "    <tr>\n",
       "      <th>2017-08-15</th>\n",
       "      <td>0.247415</td>\n",
       "      <td>-1.360066</td>\n",
       "      <td>-1.542707</td>\n",
       "      <td>1.236068</td>\n",
       "      <td>-0.840217</td>\n",
       "    </tr>\n",
       "    <tr>\n",
       "      <th>2017-08-16</th>\n",
       "      <td>1.173256</td>\n",
       "      <td>-0.739254</td>\n",
       "      <td>-1.815254</td>\n",
       "      <td>-0.080471</td>\n",
       "      <td>-0.055317</td>\n",
       "    </tr>\n",
       "  </tbody>\n",
       "</table>\n",
       "</div>"
      ],
      "text/plain": [
       "                   E         D         C         B         A\n",
       "2017-08-10 -0.668301 -0.334518  2.041884  0.666604 -0.921352\n",
       "2017-08-11  0.644696  1.420594 -1.518777  1.206670  0.339813\n",
       "2017-08-12 -1.776053  0.555280 -2.012583 -0.738926 -0.586532\n",
       "2017-08-13  1.376891 -0.270770  0.530515  1.550599  0.023078\n",
       "2017-08-14 -0.748232 -1.129384 -0.245413  0.568376  0.338708\n",
       "2017-08-15  0.247415 -1.360066 -1.542707  1.236068 -0.840217\n",
       "2017-08-16  1.173256 -0.739254 -1.815254 -0.080471 -0.055317"
      ]
     },
     "execution_count": 45,
     "metadata": {},
     "output_type": "execute_result"
    }
   ],
   "source": [
    "df.sort_index(axis=1, ascending=False)#sort along axis 1/0"
   ]
  },
  {
   "cell_type": "code",
   "execution_count": 46,
   "metadata": {
    "collapsed": false
   },
   "outputs": [
    {
     "data": {
      "text/html": [
       "<div>\n",
       "<style>\n",
       "    .dataframe thead tr:only-child th {\n",
       "        text-align: right;\n",
       "    }\n",
       "\n",
       "    .dataframe thead th {\n",
       "        text-align: left;\n",
       "    }\n",
       "\n",
       "    .dataframe tbody tr th {\n",
       "        vertical-align: top;\n",
       "    }\n",
       "</style>\n",
       "<table border=\"1\" class=\"dataframe\">\n",
       "  <thead>\n",
       "    <tr style=\"text-align: right;\">\n",
       "      <th></th>\n",
       "      <th>A</th>\n",
       "      <th>B</th>\n",
       "      <th>C</th>\n",
       "      <th>D</th>\n",
       "      <th>E</th>\n",
       "    </tr>\n",
       "  </thead>\n",
       "  <tbody>\n",
       "    <tr>\n",
       "      <th>2017-08-12</th>\n",
       "      <td>-0.586532</td>\n",
       "      <td>-0.738926</td>\n",
       "      <td>-2.012583</td>\n",
       "      <td>0.555280</td>\n",
       "      <td>-1.776053</td>\n",
       "    </tr>\n",
       "    <tr>\n",
       "      <th>2017-08-16</th>\n",
       "      <td>-0.055317</td>\n",
       "      <td>-0.080471</td>\n",
       "      <td>-1.815254</td>\n",
       "      <td>-0.739254</td>\n",
       "      <td>1.173256</td>\n",
       "    </tr>\n",
       "    <tr>\n",
       "      <th>2017-08-14</th>\n",
       "      <td>0.338708</td>\n",
       "      <td>0.568376</td>\n",
       "      <td>-0.245413</td>\n",
       "      <td>-1.129384</td>\n",
       "      <td>-0.748232</td>\n",
       "    </tr>\n",
       "    <tr>\n",
       "      <th>2017-08-10</th>\n",
       "      <td>-0.921352</td>\n",
       "      <td>0.666604</td>\n",
       "      <td>2.041884</td>\n",
       "      <td>-0.334518</td>\n",
       "      <td>-0.668301</td>\n",
       "    </tr>\n",
       "    <tr>\n",
       "      <th>2017-08-11</th>\n",
       "      <td>0.339813</td>\n",
       "      <td>1.206670</td>\n",
       "      <td>-1.518777</td>\n",
       "      <td>1.420594</td>\n",
       "      <td>0.644696</td>\n",
       "    </tr>\n",
       "    <tr>\n",
       "      <th>2017-08-15</th>\n",
       "      <td>-0.840217</td>\n",
       "      <td>1.236068</td>\n",
       "      <td>-1.542707</td>\n",
       "      <td>-1.360066</td>\n",
       "      <td>0.247415</td>\n",
       "    </tr>\n",
       "    <tr>\n",
       "      <th>2017-08-13</th>\n",
       "      <td>0.023078</td>\n",
       "      <td>1.550599</td>\n",
       "      <td>0.530515</td>\n",
       "      <td>-0.270770</td>\n",
       "      <td>1.376891</td>\n",
       "    </tr>\n",
       "  </tbody>\n",
       "</table>\n",
       "</div>"
      ],
      "text/plain": [
       "                   A         B         C         D         E\n",
       "2017-08-12 -0.586532 -0.738926 -2.012583  0.555280 -1.776053\n",
       "2017-08-16 -0.055317 -0.080471 -1.815254 -0.739254  1.173256\n",
       "2017-08-14  0.338708  0.568376 -0.245413 -1.129384 -0.748232\n",
       "2017-08-10 -0.921352  0.666604  2.041884 -0.334518 -0.668301\n",
       "2017-08-11  0.339813  1.206670 -1.518777  1.420594  0.644696\n",
       "2017-08-15 -0.840217  1.236068 -1.542707 -1.360066  0.247415\n",
       "2017-08-13  0.023078  1.550599  0.530515 -0.270770  1.376891"
      ]
     },
     "execution_count": 46,
     "metadata": {},
     "output_type": "execute_result"
    }
   ],
   "source": [
    "df.sort_values(by='B')"
   ]
  },
  {
   "cell_type": "code",
   "execution_count": 47,
   "metadata": {
    "collapsed": false
   },
   "outputs": [
    {
     "data": {
      "text/plain": [
       "2017-08-10   -0.921352\n",
       "2017-08-11    0.339813\n",
       "2017-08-12   -0.586532\n",
       "2017-08-13    0.023078\n",
       "2017-08-14    0.338708\n",
       "2017-08-15   -0.840217\n",
       "2017-08-16   -0.055317\n",
       "Freq: D, Name: A, dtype: float64"
      ]
     },
     "execution_count": 47,
     "metadata": {},
     "output_type": "execute_result"
    }
   ],
   "source": [
    "df['A'] #slicing techniques"
   ]
  },
  {
   "cell_type": "code",
   "execution_count": 48,
   "metadata": {
    "collapsed": false
   },
   "outputs": [
    {
     "data": {
      "text/html": [
       "<div>\n",
       "<style>\n",
       "    .dataframe thead tr:only-child th {\n",
       "        text-align: right;\n",
       "    }\n",
       "\n",
       "    .dataframe thead th {\n",
       "        text-align: left;\n",
       "    }\n",
       "\n",
       "    .dataframe tbody tr th {\n",
       "        vertical-align: top;\n",
       "    }\n",
       "</style>\n",
       "<table border=\"1\" class=\"dataframe\">\n",
       "  <thead>\n",
       "    <tr style=\"text-align: right;\">\n",
       "      <th></th>\n",
       "      <th>A</th>\n",
       "      <th>B</th>\n",
       "      <th>C</th>\n",
       "      <th>D</th>\n",
       "      <th>E</th>\n",
       "    </tr>\n",
       "  </thead>\n",
       "  <tbody>\n",
       "    <tr>\n",
       "      <th>2017-08-10</th>\n",
       "      <td>-0.921352</td>\n",
       "      <td>0.666604</td>\n",
       "      <td>2.041884</td>\n",
       "      <td>-0.334518</td>\n",
       "      <td>-0.668301</td>\n",
       "    </tr>\n",
       "    <tr>\n",
       "      <th>2017-08-11</th>\n",
       "      <td>0.339813</td>\n",
       "      <td>1.206670</td>\n",
       "      <td>-1.518777</td>\n",
       "      <td>1.420594</td>\n",
       "      <td>0.644696</td>\n",
       "    </tr>\n",
       "    <tr>\n",
       "      <th>2017-08-12</th>\n",
       "      <td>-0.586532</td>\n",
       "      <td>-0.738926</td>\n",
       "      <td>-2.012583</td>\n",
       "      <td>0.555280</td>\n",
       "      <td>-1.776053</td>\n",
       "    </tr>\n",
       "  </tbody>\n",
       "</table>\n",
       "</div>"
      ],
      "text/plain": [
       "                   A         B         C         D         E\n",
       "2017-08-10 -0.921352  0.666604  2.041884 -0.334518 -0.668301\n",
       "2017-08-11  0.339813  1.206670 -1.518777  1.420594  0.644696\n",
       "2017-08-12 -0.586532 -0.738926 -2.012583  0.555280 -1.776053"
      ]
     },
     "execution_count": 48,
     "metadata": {},
     "output_type": "execute_result"
    }
   ],
   "source": [
    "df[0:3]"
   ]
  },
  {
   "cell_type": "code",
   "execution_count": 49,
   "metadata": {
    "collapsed": false
   },
   "outputs": [
    {
     "data": {
      "text/plain": [
       "A   -0.921352\n",
       "B    0.666604\n",
       "C    2.041884\n",
       "D   -0.334518\n",
       "E   -0.668301\n",
       "Name: 2017-08-10 00:00:00, dtype: float64"
      ]
     },
     "execution_count": 49,
     "metadata": {},
     "output_type": "execute_result"
    }
   ],
   "source": [
    "df.loc[date[0]]#select by label"
   ]
  },
  {
   "cell_type": "code",
   "execution_count": 50,
   "metadata": {
    "collapsed": false
   },
   "outputs": [
    {
     "data": {
      "text/html": [
       "<div>\n",
       "<style>\n",
       "    .dataframe thead tr:only-child th {\n",
       "        text-align: right;\n",
       "    }\n",
       "\n",
       "    .dataframe thead th {\n",
       "        text-align: left;\n",
       "    }\n",
       "\n",
       "    .dataframe tbody tr th {\n",
       "        vertical-align: top;\n",
       "    }\n",
       "</style>\n",
       "<table border=\"1\" class=\"dataframe\">\n",
       "  <thead>\n",
       "    <tr style=\"text-align: right;\">\n",
       "      <th></th>\n",
       "      <th>A</th>\n",
       "      <th>B</th>\n",
       "      <th>C</th>\n",
       "    </tr>\n",
       "  </thead>\n",
       "  <tbody>\n",
       "    <tr>\n",
       "      <th>2017-08-10</th>\n",
       "      <td>-0.921352</td>\n",
       "      <td>0.666604</td>\n",
       "      <td>2.041884</td>\n",
       "    </tr>\n",
       "    <tr>\n",
       "      <th>2017-08-11</th>\n",
       "      <td>0.339813</td>\n",
       "      <td>1.206670</td>\n",
       "      <td>-1.518777</td>\n",
       "    </tr>\n",
       "    <tr>\n",
       "      <th>2017-08-12</th>\n",
       "      <td>-0.586532</td>\n",
       "      <td>-0.738926</td>\n",
       "      <td>-2.012583</td>\n",
       "    </tr>\n",
       "    <tr>\n",
       "      <th>2017-08-13</th>\n",
       "      <td>0.023078</td>\n",
       "      <td>1.550599</td>\n",
       "      <td>0.530515</td>\n",
       "    </tr>\n",
       "    <tr>\n",
       "      <th>2017-08-14</th>\n",
       "      <td>0.338708</td>\n",
       "      <td>0.568376</td>\n",
       "      <td>-0.245413</td>\n",
       "    </tr>\n",
       "    <tr>\n",
       "      <th>2017-08-15</th>\n",
       "      <td>-0.840217</td>\n",
       "      <td>1.236068</td>\n",
       "      <td>-1.542707</td>\n",
       "    </tr>\n",
       "    <tr>\n",
       "      <th>2017-08-16</th>\n",
       "      <td>-0.055317</td>\n",
       "      <td>-0.080471</td>\n",
       "      <td>-1.815254</td>\n",
       "    </tr>\n",
       "  </tbody>\n",
       "</table>\n",
       "</div>"
      ],
      "text/plain": [
       "                   A         B         C\n",
       "2017-08-10 -0.921352  0.666604  2.041884\n",
       "2017-08-11  0.339813  1.206670 -1.518777\n",
       "2017-08-12 -0.586532 -0.738926 -2.012583\n",
       "2017-08-13  0.023078  1.550599  0.530515\n",
       "2017-08-14  0.338708  0.568376 -0.245413\n",
       "2017-08-15 -0.840217  1.236068 -1.542707\n",
       "2017-08-16 -0.055317 -0.080471 -1.815254"
      ]
     },
     "execution_count": 50,
     "metadata": {},
     "output_type": "execute_result"
    }
   ],
   "source": [
    "df.loc[:,['A','B','C']]"
   ]
  },
  {
   "cell_type": "code",
   "execution_count": 57,
   "metadata": {
    "collapsed": false
   },
   "outputs": [
    {
     "data": {
      "text/plain": [
       "A   -0.921352\n",
       "B    0.666604\n",
       "Name: 2017-08-10 00:00:00, dtype: float64"
      ]
     },
     "execution_count": 57,
     "metadata": {},
     "output_type": "execute_result"
    }
   ],
   "source": [
    "df.loc['20170810',['A','B']]"
   ]
  },
  {
   "cell_type": "code",
   "execution_count": 58,
   "metadata": {
    "collapsed": false
   },
   "outputs": [
    {
     "data": {
      "text/plain": [
       "-0.92135231732105294"
      ]
     },
     "execution_count": 58,
     "metadata": {},
     "output_type": "execute_result"
    }
   ],
   "source": [
    "df.loc[date[0],'A']"
   ]
  },
  {
   "cell_type": "code",
   "execution_count": 59,
   "metadata": {
    "collapsed": false
   },
   "outputs": [
    {
     "data": {
      "text/plain": [
       "-0.73892579313039641"
      ]
     },
     "execution_count": 59,
     "metadata": {},
     "output_type": "execute_result"
    }
   ],
   "source": [
    "df.at[date[2],'B']"
   ]
  },
  {
   "cell_type": "code",
   "execution_count": 60,
   "metadata": {
    "collapsed": false
   },
   "outputs": [
    {
     "data": {
      "text/html": [
       "<div>\n",
       "<style>\n",
       "    .dataframe thead tr:only-child th {\n",
       "        text-align: right;\n",
       "    }\n",
       "\n",
       "    .dataframe thead th {\n",
       "        text-align: left;\n",
       "    }\n",
       "\n",
       "    .dataframe tbody tr th {\n",
       "        vertical-align: top;\n",
       "    }\n",
       "</style>\n",
       "<table border=\"1\" class=\"dataframe\">\n",
       "  <thead>\n",
       "    <tr style=\"text-align: right;\">\n",
       "      <th></th>\n",
       "      <th>B</th>\n",
       "      <th>C</th>\n",
       "    </tr>\n",
       "  </thead>\n",
       "  <tbody>\n",
       "    <tr>\n",
       "      <th>2017-08-11</th>\n",
       "      <td>1.206670</td>\n",
       "      <td>-1.518777</td>\n",
       "    </tr>\n",
       "    <tr>\n",
       "      <th>2017-08-12</th>\n",
       "      <td>-0.738926</td>\n",
       "      <td>-2.012583</td>\n",
       "    </tr>\n",
       "  </tbody>\n",
       "</table>\n",
       "</div>"
      ],
      "text/plain": [
       "                   B         C\n",
       "2017-08-11  1.206670 -1.518777\n",
       "2017-08-12 -0.738926 -2.012583"
      ]
     },
     "execution_count": 60,
     "metadata": {},
     "output_type": "execute_result"
    }
   ],
   "source": [
    "#select by position\n",
    "df.iloc[1:3,1:3]"
   ]
  },
  {
   "cell_type": "code",
   "execution_count": 61,
   "metadata": {
    "collapsed": false
   },
   "outputs": [
    {
     "data": {
      "text/plain": [
       "-1.5187766373771934"
      ]
     },
     "execution_count": 61,
     "metadata": {},
     "output_type": "execute_result"
    }
   ],
   "source": [
    "df.iloc[1,2]#getting value explicitly"
   ]
  },
  {
   "cell_type": "code",
   "execution_count": 63,
   "metadata": {
    "collapsed": false
   },
   "outputs": [
    {
     "data": {
      "text/plain": [
       "-1.5187766373771934"
      ]
     },
     "execution_count": 63,
     "metadata": {},
     "output_type": "execute_result"
    }
   ],
   "source": [
    "df.iat[1,2]"
   ]
  },
  {
   "cell_type": "code",
   "execution_count": 67,
   "metadata": {
    "collapsed": false
   },
   "outputs": [
    {
     "data": {
      "text/plain": [
       "0.0"
      ]
     },
     "execution_count": 67,
     "metadata": {},
     "output_type": "execute_result"
    }
   ],
   "source": [
    "# setting values by label\n",
    "df.at[date[0],'B']=0\n",
    "df.iat[0,1]"
   ]
  },
  {
   "cell_type": "code",
   "execution_count": 71,
   "metadata": {
    "collapsed": false
   },
   "outputs": [
    {
     "data": {
      "text/plain": [
       "nan"
      ]
     },
     "execution_count": 71,
     "metadata": {},
     "output_type": "execute_result"
    }
   ],
   "source": [
    "df.iat[0,2]=np.nan\n",
    "df.at[date[0],'C']"
   ]
  },
  {
   "cell_type": "code",
   "execution_count": 72,
   "metadata": {
    "collapsed": false
   },
   "outputs": [
    {
     "data": {
      "text/html": [
       "<div>\n",
       "<style>\n",
       "    .dataframe thead tr:only-child th {\n",
       "        text-align: right;\n",
       "    }\n",
       "\n",
       "    .dataframe thead th {\n",
       "        text-align: left;\n",
       "    }\n",
       "\n",
       "    .dataframe tbody tr th {\n",
       "        vertical-align: top;\n",
       "    }\n",
       "</style>\n",
       "<table border=\"1\" class=\"dataframe\">\n",
       "  <thead>\n",
       "    <tr style=\"text-align: right;\">\n",
       "      <th></th>\n",
       "      <th>A</th>\n",
       "      <th>B</th>\n",
       "      <th>C</th>\n",
       "      <th>D</th>\n",
       "      <th>E</th>\n",
       "    </tr>\n",
       "  </thead>\n",
       "  <tbody>\n",
       "    <tr>\n",
       "      <th>2017-08-10</th>\n",
       "      <td>-0.921352</td>\n",
       "      <td>0.000000</td>\n",
       "      <td>NaN</td>\n",
       "      <td>-0.334518</td>\n",
       "      <td>-0.668301</td>\n",
       "    </tr>\n",
       "    <tr>\n",
       "      <th>2017-08-11</th>\n",
       "      <td>0.339813</td>\n",
       "      <td>1.206670</td>\n",
       "      <td>-1.518777</td>\n",
       "      <td>1.420594</td>\n",
       "      <td>0.644696</td>\n",
       "    </tr>\n",
       "    <tr>\n",
       "      <th>2017-08-12</th>\n",
       "      <td>-0.586532</td>\n",
       "      <td>-0.738926</td>\n",
       "      <td>-2.012583</td>\n",
       "      <td>0.555280</td>\n",
       "      <td>-1.776053</td>\n",
       "    </tr>\n",
       "    <tr>\n",
       "      <th>2017-08-13</th>\n",
       "      <td>0.023078</td>\n",
       "      <td>1.550599</td>\n",
       "      <td>0.530515</td>\n",
       "      <td>-0.270770</td>\n",
       "      <td>1.376891</td>\n",
       "    </tr>\n",
       "    <tr>\n",
       "      <th>2017-08-14</th>\n",
       "      <td>0.338708</td>\n",
       "      <td>0.568376</td>\n",
       "      <td>-0.245413</td>\n",
       "      <td>-1.129384</td>\n",
       "      <td>-0.748232</td>\n",
       "    </tr>\n",
       "    <tr>\n",
       "      <th>2017-08-15</th>\n",
       "      <td>-0.840217</td>\n",
       "      <td>1.236068</td>\n",
       "      <td>-1.542707</td>\n",
       "      <td>-1.360066</td>\n",
       "      <td>0.247415</td>\n",
       "    </tr>\n",
       "    <tr>\n",
       "      <th>2017-08-16</th>\n",
       "      <td>-0.055317</td>\n",
       "      <td>-0.080471</td>\n",
       "      <td>-1.815254</td>\n",
       "      <td>-0.739254</td>\n",
       "      <td>1.173256</td>\n",
       "    </tr>\n",
       "  </tbody>\n",
       "</table>\n",
       "</div>"
      ],
      "text/plain": [
       "                   A         B         C         D         E\n",
       "2017-08-10 -0.921352  0.000000       NaN -0.334518 -0.668301\n",
       "2017-08-11  0.339813  1.206670 -1.518777  1.420594  0.644696\n",
       "2017-08-12 -0.586532 -0.738926 -2.012583  0.555280 -1.776053\n",
       "2017-08-13  0.023078  1.550599  0.530515 -0.270770  1.376891\n",
       "2017-08-14  0.338708  0.568376 -0.245413 -1.129384 -0.748232\n",
       "2017-08-15 -0.840217  1.236068 -1.542707 -1.360066  0.247415\n",
       "2017-08-16 -0.055317 -0.080471 -1.815254 -0.739254  1.173256"
      ]
     },
     "execution_count": 72,
     "metadata": {},
     "output_type": "execute_result"
    }
   ],
   "source": [
    "df"
   ]
  },
  {
   "cell_type": "code",
   "execution_count": 73,
   "metadata": {
    "collapsed": false
   },
   "outputs": [
    {
     "data": {
      "text/html": [
       "<div>\n",
       "<style>\n",
       "    .dataframe thead tr:only-child th {\n",
       "        text-align: right;\n",
       "    }\n",
       "\n",
       "    .dataframe thead th {\n",
       "        text-align: left;\n",
       "    }\n",
       "\n",
       "    .dataframe tbody tr th {\n",
       "        vertical-align: top;\n",
       "    }\n",
       "</style>\n",
       "<table border=\"1\" class=\"dataframe\">\n",
       "  <thead>\n",
       "    <tr style=\"text-align: right;\">\n",
       "      <th></th>\n",
       "      <th>A</th>\n",
       "      <th>B</th>\n",
       "      <th>C</th>\n",
       "      <th>D</th>\n",
       "      <th>E</th>\n",
       "    </tr>\n",
       "  </thead>\n",
       "  <tbody>\n",
       "    <tr>\n",
       "      <th>2017-08-10</th>\n",
       "      <td>False</td>\n",
       "      <td>False</td>\n",
       "      <td>True</td>\n",
       "      <td>False</td>\n",
       "      <td>False</td>\n",
       "    </tr>\n",
       "    <tr>\n",
       "      <th>2017-08-11</th>\n",
       "      <td>False</td>\n",
       "      <td>False</td>\n",
       "      <td>False</td>\n",
       "      <td>False</td>\n",
       "      <td>False</td>\n",
       "    </tr>\n",
       "    <tr>\n",
       "      <th>2017-08-12</th>\n",
       "      <td>False</td>\n",
       "      <td>False</td>\n",
       "      <td>False</td>\n",
       "      <td>False</td>\n",
       "      <td>False</td>\n",
       "    </tr>\n",
       "    <tr>\n",
       "      <th>2017-08-13</th>\n",
       "      <td>False</td>\n",
       "      <td>False</td>\n",
       "      <td>False</td>\n",
       "      <td>False</td>\n",
       "      <td>False</td>\n",
       "    </tr>\n",
       "    <tr>\n",
       "      <th>2017-08-14</th>\n",
       "      <td>False</td>\n",
       "      <td>False</td>\n",
       "      <td>False</td>\n",
       "      <td>False</td>\n",
       "      <td>False</td>\n",
       "    </tr>\n",
       "    <tr>\n",
       "      <th>2017-08-15</th>\n",
       "      <td>False</td>\n",
       "      <td>False</td>\n",
       "      <td>False</td>\n",
       "      <td>False</td>\n",
       "      <td>False</td>\n",
       "    </tr>\n",
       "    <tr>\n",
       "      <th>2017-08-16</th>\n",
       "      <td>False</td>\n",
       "      <td>False</td>\n",
       "      <td>False</td>\n",
       "      <td>False</td>\n",
       "      <td>False</td>\n",
       "    </tr>\n",
       "  </tbody>\n",
       "</table>\n",
       "</div>"
      ],
      "text/plain": [
       "                A      B      C      D      E\n",
       "2017-08-10  False  False   True  False  False\n",
       "2017-08-11  False  False  False  False  False\n",
       "2017-08-12  False  False  False  False  False\n",
       "2017-08-13  False  False  False  False  False\n",
       "2017-08-14  False  False  False  False  False\n",
       "2017-08-15  False  False  False  False  False\n",
       "2017-08-16  False  False  False  False  False"
      ]
     },
     "execution_count": 73,
     "metadata": {},
     "output_type": "execute_result"
    }
   ],
   "source": [
    "pd.isnull(df)#check missing values"
   ]
  },
  {
   "cell_type": "code",
   "execution_count": 74,
   "metadata": {
    "collapsed": false
   },
   "outputs": [
    {
     "data": {
      "text/html": [
       "<div>\n",
       "<style>\n",
       "    .dataframe thead tr:only-child th {\n",
       "        text-align: right;\n",
       "    }\n",
       "\n",
       "    .dataframe thead th {\n",
       "        text-align: left;\n",
       "    }\n",
       "\n",
       "    .dataframe tbody tr th {\n",
       "        vertical-align: top;\n",
       "    }\n",
       "</style>\n",
       "<table border=\"1\" class=\"dataframe\">\n",
       "  <thead>\n",
       "    <tr style=\"text-align: right;\">\n",
       "      <th></th>\n",
       "      <th>A</th>\n",
       "      <th>B</th>\n",
       "      <th>C</th>\n",
       "      <th>D</th>\n",
       "      <th>E</th>\n",
       "    </tr>\n",
       "  </thead>\n",
       "  <tbody>\n",
       "    <tr>\n",
       "      <th>2017-08-11</th>\n",
       "      <td>0.339813</td>\n",
       "      <td>1.206670</td>\n",
       "      <td>-1.518777</td>\n",
       "      <td>1.420594</td>\n",
       "      <td>0.644696</td>\n",
       "    </tr>\n",
       "    <tr>\n",
       "      <th>2017-08-13</th>\n",
       "      <td>0.023078</td>\n",
       "      <td>1.550599</td>\n",
       "      <td>0.530515</td>\n",
       "      <td>-0.270770</td>\n",
       "      <td>1.376891</td>\n",
       "    </tr>\n",
       "    <tr>\n",
       "      <th>2017-08-14</th>\n",
       "      <td>0.338708</td>\n",
       "      <td>0.568376</td>\n",
       "      <td>-0.245413</td>\n",
       "      <td>-1.129384</td>\n",
       "      <td>-0.748232</td>\n",
       "    </tr>\n",
       "  </tbody>\n",
       "</table>\n",
       "</div>"
      ],
      "text/plain": [
       "                   A         B         C         D         E\n",
       "2017-08-11  0.339813  1.206670 -1.518777  1.420594  0.644696\n",
       "2017-08-13  0.023078  1.550599  0.530515 -0.270770  1.376891\n",
       "2017-08-14  0.338708  0.568376 -0.245413 -1.129384 -0.748232"
      ]
     },
     "execution_count": 74,
     "metadata": {},
     "output_type": "execute_result"
    }
   ],
   "source": [
    "df[df.A>0]"
   ]
  },
  {
   "cell_type": "code",
   "execution_count": 75,
   "metadata": {
    "collapsed": false
   },
   "outputs": [
    {
     "data": {
      "text/html": [
       "<div>\n",
       "<style>\n",
       "    .dataframe thead tr:only-child th {\n",
       "        text-align: right;\n",
       "    }\n",
       "\n",
       "    .dataframe thead th {\n",
       "        text-align: left;\n",
       "    }\n",
       "\n",
       "    .dataframe tbody tr th {\n",
       "        vertical-align: top;\n",
       "    }\n",
       "</style>\n",
       "<table border=\"1\" class=\"dataframe\">\n",
       "  <thead>\n",
       "    <tr style=\"text-align: right;\">\n",
       "      <th></th>\n",
       "      <th>A</th>\n",
       "      <th>B</th>\n",
       "      <th>C</th>\n",
       "      <th>D</th>\n",
       "      <th>E</th>\n",
       "    </tr>\n",
       "  </thead>\n",
       "  <tbody>\n",
       "    <tr>\n",
       "      <th>2017-08-10</th>\n",
       "      <td>NaN</td>\n",
       "      <td>NaN</td>\n",
       "      <td>NaN</td>\n",
       "      <td>NaN</td>\n",
       "      <td>NaN</td>\n",
       "    </tr>\n",
       "    <tr>\n",
       "      <th>2017-08-11</th>\n",
       "      <td>0.339813</td>\n",
       "      <td>1.206670</td>\n",
       "      <td>NaN</td>\n",
       "      <td>1.420594</td>\n",
       "      <td>0.644696</td>\n",
       "    </tr>\n",
       "    <tr>\n",
       "      <th>2017-08-12</th>\n",
       "      <td>NaN</td>\n",
       "      <td>NaN</td>\n",
       "      <td>NaN</td>\n",
       "      <td>0.555280</td>\n",
       "      <td>NaN</td>\n",
       "    </tr>\n",
       "    <tr>\n",
       "      <th>2017-08-13</th>\n",
       "      <td>0.023078</td>\n",
       "      <td>1.550599</td>\n",
       "      <td>0.530515</td>\n",
       "      <td>NaN</td>\n",
       "      <td>1.376891</td>\n",
       "    </tr>\n",
       "    <tr>\n",
       "      <th>2017-08-14</th>\n",
       "      <td>0.338708</td>\n",
       "      <td>0.568376</td>\n",
       "      <td>NaN</td>\n",
       "      <td>NaN</td>\n",
       "      <td>NaN</td>\n",
       "    </tr>\n",
       "    <tr>\n",
       "      <th>2017-08-15</th>\n",
       "      <td>NaN</td>\n",
       "      <td>1.236068</td>\n",
       "      <td>NaN</td>\n",
       "      <td>NaN</td>\n",
       "      <td>0.247415</td>\n",
       "    </tr>\n",
       "    <tr>\n",
       "      <th>2017-08-16</th>\n",
       "      <td>NaN</td>\n",
       "      <td>NaN</td>\n",
       "      <td>NaN</td>\n",
       "      <td>NaN</td>\n",
       "      <td>1.173256</td>\n",
       "    </tr>\n",
       "  </tbody>\n",
       "</table>\n",
       "</div>"
      ],
      "text/plain": [
       "                   A         B         C         D         E\n",
       "2017-08-10       NaN       NaN       NaN       NaN       NaN\n",
       "2017-08-11  0.339813  1.206670       NaN  1.420594  0.644696\n",
       "2017-08-12       NaN       NaN       NaN  0.555280       NaN\n",
       "2017-08-13  0.023078  1.550599  0.530515       NaN  1.376891\n",
       "2017-08-14  0.338708  0.568376       NaN       NaN       NaN\n",
       "2017-08-15       NaN  1.236068       NaN       NaN  0.247415\n",
       "2017-08-16       NaN       NaN       NaN       NaN  1.173256"
      ]
     },
     "execution_count": 75,
     "metadata": {},
     "output_type": "execute_result"
    }
   ],
   "source": [
    "df[df>0]"
   ]
  },
  {
   "cell_type": "code",
   "execution_count": 76,
   "metadata": {
    "collapsed": false
   },
   "outputs": [
    {
     "data": {
      "text/plain": [
       "False"
      ]
     },
     "execution_count": 76,
     "metadata": {},
     "output_type": "execute_result"
    }
   ],
   "source": [
    "pd.isnull(df.iat[0,0])"
   ]
  },
  {
   "cell_type": "markdown",
   "metadata": {},
   "source": [
    "# Statistics  "
   ]
  },
  {
   "cell_type": "code",
   "execution_count": 77,
   "metadata": {
    "collapsed": false
   },
   "outputs": [
    {
     "data": {
      "text/plain": [
       "A   -0.243117\n",
       "B    0.534616\n",
       "C   -1.100703\n",
       "D   -0.265445\n",
       "E    0.035667\n",
       "dtype: float64"
      ]
     },
     "execution_count": 77,
     "metadata": {},
     "output_type": "execute_result"
    }
   ],
   "source": [
    "df.mean()"
   ]
  },
  {
   "cell_type": "code",
   "execution_count": 79,
   "metadata": {
    "collapsed": false
   },
   "outputs": [
    {
     "data": {
      "text/plain": [
       "2017-08-10   -0.481043\n",
       "2017-08-11    0.418599\n",
       "2017-08-12   -0.911763\n",
       "2017-08-13    0.642063\n",
       "2017-08-14   -0.243189\n",
       "2017-08-15   -0.451901\n",
       "2017-08-16   -0.303408\n",
       "Freq: D, dtype: float64"
      ]
     },
     "execution_count": 79,
     "metadata": {},
     "output_type": "execute_result"
    }
   ],
   "source": [
    "df.mean(1)# along different axis i.e. 0/1"
   ]
  },
  {
   "cell_type": "code",
   "execution_count": null,
   "metadata": {
    "collapsed": true
   },
   "outputs": [],
   "source": []
  }
 ],
 "metadata": {
  "kernelspec": {
   "display_name": "Python 2",
   "language": "python",
   "name": "python2"
  },
  "language_info": {
   "codemirror_mode": {
    "name": "ipython",
    "version": 2
   },
   "file_extension": ".py",
   "mimetype": "text/x-python",
   "name": "python",
   "nbconvert_exporter": "python",
   "pygments_lexer": "ipython2",
   "version": "2.7.6"
  }
 },
 "nbformat": 4,
 "nbformat_minor": 2
}
