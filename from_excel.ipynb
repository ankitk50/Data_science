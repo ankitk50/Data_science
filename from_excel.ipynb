{
 "cells": [
  {
   "cell_type": "code",
   "execution_count": 4,
   "metadata": {
    "collapsed": true
   },
   "outputs": [],
   "source": [
    "import numpy as np"
   ]
  },
  {
   "cell_type": "code",
   "execution_count": 6,
   "metadata": {
    "collapsed": false
   },
   "outputs": [],
   "source": [
    "import matplotlib.pyplot as plt\n",
    "import pandas as pd"
   ]
  },
  {
   "cell_type": "code",
   "execution_count": 8,
   "metadata": {
    "collapsed": true
   },
   "outputs": [],
   "source": [
    "df=pd.read_excel('tgc_list.xls','Sheet1')"
   ]
  },
  {
   "cell_type": "code",
   "execution_count": 10,
   "metadata": {
    "collapsed": false
   },
   "outputs": [
    {
     "data": {
      "text/html": [
       "<div>\n",
       "<style>\n",
       "    .dataframe thead tr:only-child th {\n",
       "        text-align: right;\n",
       "    }\n",
       "\n",
       "    .dataframe thead th {\n",
       "        text-align: left;\n",
       "    }\n",
       "\n",
       "    .dataframe tbody tr th {\n",
       "        vertical-align: top;\n",
       "    }\n",
       "</style>\n",
       "<table border=\"1\" class=\"dataframe\">\n",
       "  <thead>\n",
       "    <tr style=\"text-align: right;\">\n",
       "      <th></th>\n",
       "      <th>Ser No</th>\n",
       "      <th>Remarks</th>\n",
       "    </tr>\n",
       "  </thead>\n",
       "  <tbody>\n",
       "    <tr>\n",
       "      <th>count</th>\n",
       "      <td>723.00000</td>\n",
       "      <td>0.0</td>\n",
       "    </tr>\n",
       "    <tr>\n",
       "      <th>mean</th>\n",
       "      <td>362.00000</td>\n",
       "      <td>NaN</td>\n",
       "    </tr>\n",
       "    <tr>\n",
       "      <th>std</th>\n",
       "      <td>208.85641</td>\n",
       "      <td>NaN</td>\n",
       "    </tr>\n",
       "    <tr>\n",
       "      <th>min</th>\n",
       "      <td>1.00000</td>\n",
       "      <td>NaN</td>\n",
       "    </tr>\n",
       "    <tr>\n",
       "      <th>25%</th>\n",
       "      <td>181.50000</td>\n",
       "      <td>NaN</td>\n",
       "    </tr>\n",
       "    <tr>\n",
       "      <th>50%</th>\n",
       "      <td>362.00000</td>\n",
       "      <td>NaN</td>\n",
       "    </tr>\n",
       "    <tr>\n",
       "      <th>75%</th>\n",
       "      <td>542.50000</td>\n",
       "      <td>NaN</td>\n",
       "    </tr>\n",
       "    <tr>\n",
       "      <th>max</th>\n",
       "      <td>723.00000</td>\n",
       "      <td>NaN</td>\n",
       "    </tr>\n",
       "  </tbody>\n",
       "</table>\n",
       "</div>"
      ],
      "text/plain": [
       "          Ser No  Remarks\n",
       "count  723.00000      0.0\n",
       "mean   362.00000      NaN\n",
       "std    208.85641      NaN\n",
       "min      1.00000      NaN\n",
       "25%    181.50000      NaN\n",
       "50%    362.00000      NaN\n",
       "75%    542.50000      NaN\n",
       "max    723.00000      NaN"
      ]
     },
     "execution_count": 10,
     "metadata": {},
     "output_type": "execute_result"
    }
   ],
   "source": [
    "df.describe()"
   ]
  },
  {
   "cell_type": "code",
   "execution_count": 11,
   "metadata": {
    "collapsed": false
   },
   "outputs": [
    {
     "data": {
      "text/html": [
       "<div>\n",
       "<style>\n",
       "    .dataframe thead tr:only-child th {\n",
       "        text-align: right;\n",
       "    }\n",
       "\n",
       "    .dataframe thead th {\n",
       "        text-align: left;\n",
       "    }\n",
       "\n",
       "    .dataframe tbody tr th {\n",
       "        vertical-align: top;\n",
       "    }\n",
       "</style>\n",
       "<table border=\"1\" class=\"dataframe\">\n",
       "  <thead>\n",
       "    <tr style=\"text-align: right;\">\n",
       "      <th></th>\n",
       "      <th>Ser No</th>\n",
       "      <th>RollNo</th>\n",
       "      <th>CandidateName</th>\n",
       "      <th>Reporting Date</th>\n",
       "      <th>EmailId</th>\n",
       "      <th>Remarks</th>\n",
       "    </tr>\n",
       "  </thead>\n",
       "  <tbody>\n",
       "    <tr>\n",
       "      <th>0</th>\n",
       "      <td>1</td>\n",
       "      <td>TGC-125/100018</td>\n",
       "      <td>PARAMVEER SINGH</td>\n",
       "      <td>03-03-2017</td>\n",
       "      <td>paramveersinghkalsi@gmail.com</td>\n",
       "      <td>NaN</td>\n",
       "    </tr>\n",
       "    <tr>\n",
       "      <th>1</th>\n",
       "      <td>2</td>\n",
       "      <td>TGC-125/100045</td>\n",
       "      <td>AMANPREET SINGH BRAR</td>\n",
       "      <td>03-03-2017</td>\n",
       "      <td>amanbkrk@gmail.com</td>\n",
       "      <td>NaN</td>\n",
       "    </tr>\n",
       "    <tr>\n",
       "      <th>2</th>\n",
       "      <td>3</td>\n",
       "      <td>TGC-125/100119</td>\n",
       "      <td>GAURAV VIKRAM SINGH</td>\n",
       "      <td>03-03-2017</td>\n",
       "      <td>gvs2137@gmail.com</td>\n",
       "      <td>NaN</td>\n",
       "    </tr>\n",
       "    <tr>\n",
       "      <th>3</th>\n",
       "      <td>4</td>\n",
       "      <td>TGC-125/100120</td>\n",
       "      <td>TARUN KAUSHIK</td>\n",
       "      <td>03-03-2017</td>\n",
       "      <td>tarunkaushik1302@gmail.com</td>\n",
       "      <td>NaN</td>\n",
       "    </tr>\n",
       "    <tr>\n",
       "      <th>4</th>\n",
       "      <td>5</td>\n",
       "      <td>TGC-125/100127</td>\n",
       "      <td>GURJEET SINGH RANA</td>\n",
       "      <td>03-03-2017</td>\n",
       "      <td>gururana1994@gmail.com</td>\n",
       "      <td>NaN</td>\n",
       "    </tr>\n",
       "  </tbody>\n",
       "</table>\n",
       "</div>"
      ],
      "text/plain": [
       "   Ser No          RollNo         CandidateName Reporting Date  \\\n",
       "0       1  TGC-125/100018       PARAMVEER SINGH     03-03-2017   \n",
       "1       2  TGC-125/100045  AMANPREET SINGH BRAR     03-03-2017   \n",
       "2       3  TGC-125/100119   GAURAV VIKRAM SINGH     03-03-2017   \n",
       "3       4  TGC-125/100120         TARUN KAUSHIK     03-03-2017   \n",
       "4       5  TGC-125/100127    GURJEET SINGH RANA     03-03-2017   \n",
       "\n",
       "                         EmailId  Remarks  \n",
       "0  paramveersinghkalsi@gmail.com      NaN  \n",
       "1             amanbkrk@gmail.com      NaN  \n",
       "2              gvs2137@gmail.com      NaN  \n",
       "3     tarunkaushik1302@gmail.com      NaN  \n",
       "4         gururana1994@gmail.com      NaN  "
      ]
     },
     "execution_count": 11,
     "metadata": {},
     "output_type": "execute_result"
    }
   ],
   "source": [
    "df.head()"
   ]
  },
  {
   "cell_type": "code",
   "execution_count": 12,
   "metadata": {
    "collapsed": false
   },
   "outputs": [
    {
     "data": {
      "text/html": [
       "<div>\n",
       "<style>\n",
       "    .dataframe thead tr:only-child th {\n",
       "        text-align: right;\n",
       "    }\n",
       "\n",
       "    .dataframe thead th {\n",
       "        text-align: left;\n",
       "    }\n",
       "\n",
       "    .dataframe tbody tr th {\n",
       "        vertical-align: top;\n",
       "    }\n",
       "</style>\n",
       "<table border=\"1\" class=\"dataframe\">\n",
       "  <thead>\n",
       "    <tr style=\"text-align: right;\">\n",
       "      <th></th>\n",
       "      <th>Ser No</th>\n",
       "      <th>RollNo</th>\n",
       "      <th>CandidateName</th>\n",
       "      <th>Reporting Date</th>\n",
       "      <th>EmailId</th>\n",
       "      <th>Remarks</th>\n",
       "    </tr>\n",
       "  </thead>\n",
       "  <tbody>\n",
       "    <tr>\n",
       "      <th>0</th>\n",
       "      <td>1</td>\n",
       "      <td>TGC-125/100018</td>\n",
       "      <td>PARAMVEER SINGH</td>\n",
       "      <td>03-03-2017</td>\n",
       "      <td>paramveersinghkalsi@gmail.com</td>\n",
       "      <td>NaN</td>\n",
       "    </tr>\n",
       "    <tr>\n",
       "      <th>1</th>\n",
       "      <td>2</td>\n",
       "      <td>TGC-125/100045</td>\n",
       "      <td>AMANPREET SINGH BRAR</td>\n",
       "      <td>03-03-2017</td>\n",
       "      <td>amanbkrk@gmail.com</td>\n",
       "      <td>NaN</td>\n",
       "    </tr>\n",
       "    <tr>\n",
       "      <th>2</th>\n",
       "      <td>3</td>\n",
       "      <td>TGC-125/100119</td>\n",
       "      <td>GAURAV VIKRAM SINGH</td>\n",
       "      <td>03-03-2017</td>\n",
       "      <td>gvs2137@gmail.com</td>\n",
       "      <td>NaN</td>\n",
       "    </tr>\n",
       "    <tr>\n",
       "      <th>3</th>\n",
       "      <td>4</td>\n",
       "      <td>TGC-125/100120</td>\n",
       "      <td>TARUN KAUSHIK</td>\n",
       "      <td>03-03-2017</td>\n",
       "      <td>tarunkaushik1302@gmail.com</td>\n",
       "      <td>NaN</td>\n",
       "    </tr>\n",
       "    <tr>\n",
       "      <th>4</th>\n",
       "      <td>5</td>\n",
       "      <td>TGC-125/100127</td>\n",
       "      <td>GURJEET SINGH RANA</td>\n",
       "      <td>03-03-2017</td>\n",
       "      <td>gururana1994@gmail.com</td>\n",
       "      <td>NaN</td>\n",
       "    </tr>\n",
       "    <tr>\n",
       "      <th>5</th>\n",
       "      <td>6</td>\n",
       "      <td>TGC-125/100158</td>\n",
       "      <td>BIJENDER KUMAR</td>\n",
       "      <td>03-03-2017</td>\n",
       "      <td>BIJENDER23DHANKHAR@GMAIL.COM</td>\n",
       "      <td>NaN</td>\n",
       "    </tr>\n",
       "  </tbody>\n",
       "</table>\n",
       "</div>"
      ],
      "text/plain": [
       "   Ser No          RollNo         CandidateName Reporting Date  \\\n",
       "0       1  TGC-125/100018       PARAMVEER SINGH     03-03-2017   \n",
       "1       2  TGC-125/100045  AMANPREET SINGH BRAR     03-03-2017   \n",
       "2       3  TGC-125/100119   GAURAV VIKRAM SINGH     03-03-2017   \n",
       "3       4  TGC-125/100120         TARUN KAUSHIK     03-03-2017   \n",
       "4       5  TGC-125/100127    GURJEET SINGH RANA     03-03-2017   \n",
       "5       6  TGC-125/100158        BIJENDER KUMAR     03-03-2017   \n",
       "\n",
       "                         EmailId  Remarks  \n",
       "0  paramveersinghkalsi@gmail.com      NaN  \n",
       "1             amanbkrk@gmail.com      NaN  \n",
       "2              gvs2137@gmail.com      NaN  \n",
       "3     tarunkaushik1302@gmail.com      NaN  \n",
       "4         gururana1994@gmail.com      NaN  \n",
       "5   BIJENDER23DHANKHAR@GMAIL.COM      NaN  "
      ]
     },
     "execution_count": 12,
     "metadata": {},
     "output_type": "execute_result"
    }
   ],
   "source": [
    "df[0:6]"
   ]
  },
  {
   "cell_type": "code",
   "execution_count": 13,
   "metadata": {
    "collapsed": false
   },
   "outputs": [
    {
     "data": {
      "text/plain": [
       "Index([u'Ser No', u'RollNo', u'CandidateName', u'Reporting Date', u'EmailId',\n",
       "       u'Remarks'],\n",
       "      dtype='object')"
      ]
     },
     "execution_count": 13,
     "metadata": {},
     "output_type": "execute_result"
    }
   ],
   "source": [
    "df.columns"
   ]
  },
  {
   "cell_type": "code",
   "execution_count": 14,
   "metadata": {
    "collapsed": false
   },
   "outputs": [
    {
     "data": {
      "text/plain": [
       "Ser No                                        1\n",
       "RollNo                           TGC-125/100018\n",
       "CandidateName                   PARAMVEER SINGH\n",
       "Reporting Date                       03-03-2017\n",
       "EmailId           paramveersinghkalsi@gmail.com\n",
       "Remarks                                     NaN\n",
       "Name: 0, dtype: object"
      ]
     },
     "execution_count": 14,
     "metadata": {},
     "output_type": "execute_result"
    }
   ],
   "source": [
    "df.loc[0]"
   ]
  },
  {
   "cell_type": "code",
   "execution_count": 15,
   "metadata": {
    "collapsed": false
   },
   "outputs": [
    {
     "data": {
      "text/plain": [
       "u'RollNo'"
      ]
     },
     "execution_count": 15,
     "metadata": {},
     "output_type": "execute_result"
    }
   ],
   "source": [
    "df.columns[1]"
   ]
  },
  {
   "cell_type": "code",
   "execution_count": 19,
   "metadata": {
    "collapsed": false
   },
   "outputs": [
    {
     "data": {
      "text/plain": [
       "pandas.core.series.Series"
      ]
     },
     "execution_count": 19,
     "metadata": {},
     "output_type": "execute_result"
    }
   ],
   "source": [
    "rollno=df['RollNo']\n",
    "type(rollno)"
   ]
  },
  {
   "cell_type": "code",
   "execution_count": 18,
   "metadata": {
    "collapsed": false
   },
   "outputs": [
    {
     "data": {
      "text/plain": [
       "0    TGC-125/100018\n",
       "1    TGC-125/100045\n",
       "2    TGC-125/100119\n",
       "3    TGC-125/100120\n",
       "4    TGC-125/100127\n",
       "Name: RollNo, dtype: object"
      ]
     },
     "execution_count": 18,
     "metadata": {},
     "output_type": "execute_result"
    }
   ],
   "source": [
    "rollno.head()"
   ]
  },
  {
   "cell_type": "code",
   "execution_count": 20,
   "metadata": {
    "collapsed": false
   },
   "outputs": [
    {
     "data": {
      "text/plain": [
       "u'TGC-125/100120'"
      ]
     },
     "execution_count": 20,
     "metadata": {},
     "output_type": "execute_result"
    }
   ],
   "source": [
    "rollno[3]"
   ]
  },
  {
   "cell_type": "code",
   "execution_count": 28,
   "metadata": {
    "collapsed": false
   },
   "outputs": [],
   "source": [
    "names=df.CandidateName\n",
    "rep_date=df['Reporting Date']"
   ]
  },
  {
   "cell_type": "code",
   "execution_count": 29,
   "metadata": {
    "collapsed": false
   },
   "outputs": [
    {
     "data": {
      "text/plain": [
       "03-03-2017    723\n",
       "Name: Reporting Date, dtype: int64"
      ]
     },
     "execution_count": 29,
     "metadata": {},
     "output_type": "execute_result"
    }
   ],
   "source": [
    "rep_date.value_counts()"
   ]
  },
  {
   "cell_type": "code",
   "execution_count": 30,
   "metadata": {
    "collapsed": false
   },
   "outputs": [
    {
     "data": {
      "text/plain": [
       "AMIT KUMAR                   7\n",
       "SANDEEP KUMAR                7\n",
       "RAVINDER SINGH               5\n",
       "GURPREET SINGH               4\n",
       "SANJEEV KUMAR                4\n",
       "GAGANDEEP SINGH              3\n",
       "NAVEEN KUMAR                 3\n",
       "MOHIT KUMAR                  3\n",
       "VIKAS                        3\n",
       "MOHIT                        3\n",
       "PARVEEN KUMAR                2\n",
       "GURMEET SINGH                2\n",
       "SHAMSHER SINGH               2\n",
       "VISHAL                       2\n",
       "GURWINDER SINGH              2\n",
       "ABHISHEK KUMAR               2\n",
       "RAJESH KUMAR                 2\n",
       "AKSHAY KUMAR                 2\n",
       "KRISHAN KUMAR                2\n",
       "SAHIL SHARMA                 2\n",
       "MANDEEP SINGH                2\n",
       "SANDEEP SINGH                2\n",
       "ADITYA SHARMA                2\n",
       "MOHIT SINGH                  2\n",
       "SATNAM SINGH                 2\n",
       "DINESH KUMAR                 2\n",
       "PRADEEP KUMAR                2\n",
       "SHUBHAM SHARMA               2\n",
       "NISHANT                      2\n",
       "SHIVANSHU SHARMA             2\n",
       "                            ..\n",
       "SITENDER KUMAR JAJORIA       1\n",
       "JASHAN DEEP SHARMA           1\n",
       "BARJINDER SINGH              1\n",
       "SHYAM BIBYAN                 1\n",
       "VIKRAM PARTAP SINGH          1\n",
       "SAGAR BIRHMAN                1\n",
       "RAJESH THAKUR                1\n",
       "RAHUL DOGRA                  1\n",
       "BARUN KUMAR YADAV            1\n",
       "SAHIL SAINI                  1\n",
       "TUPHAIL JAWEED               1\n",
       "AKSHAJ                       1\n",
       "BRAHMJOT SINGH CHOPRA        1\n",
       "NAVNEET SINGH SAINI          1\n",
       "KRISHNENDU THAKUR            1\n",
       "ASHOK KUMAR                  1\n",
       "RAHUL DAGAR                  1\n",
       "PRANAV THAKUR                1\n",
       "ANKIT KUMAR                  1\n",
       "ABHISHEK CHANDRA NAUTIYAL    1\n",
       "MANZOOR AHMAD TANTRY         1\n",
       "BARINDER SINGH               1\n",
       "AADIL HUSSAIN LAWEY          1\n",
       "GAGAN SHARMA                 1\n",
       "PARDEEP KUMAR                1\n",
       "RAHUL ARORA                  1\n",
       "CHIRAG PRUTHI                1\n",
       "RISHU KATNA                  1\n",
       "PARAS SHARMA                 1\n",
       "UMESH KUMAR SHARMA           1\n",
       "Name: CandidateName, Length: 656, dtype: int64"
      ]
     },
     "execution_count": 30,
     "metadata": {},
     "output_type": "execute_result"
    }
   ],
   "source": [
    "names.value_counts()"
   ]
  },
  {
   "cell_type": "code",
   "execution_count": 32,
   "metadata": {
    "collapsed": false
   },
   "outputs": [
    {
     "data": {
      "text/plain": [
       "36    ankitk50@gmail.com\n",
       "Name: EmailId, dtype: object"
      ]
     },
     "execution_count": 32,
     "metadata": {},
     "output_type": "execute_result"
    }
   ],
   "source": [
    "df[df.CandidateName=='ANKIT KUMAR'].EmailId"
   ]
  },
  {
   "cell_type": "code",
   "execution_count": 33,
   "metadata": {
    "collapsed": false
   },
   "outputs": [
    {
     "data": {
      "text/plain": [
       "36    TGC-125/101662\n",
       "Name: RollNo, dtype: object"
      ]
     },
     "execution_count": 33,
     "metadata": {},
     "output_type": "execute_result"
    }
   ],
   "source": [
    "df[df.CandidateName=='ANKIT KUMAR'].RollNo"
   ]
  },
  {
   "cell_type": "code",
   "execution_count": 36,
   "metadata": {
    "collapsed": false,
    "scrolled": true
   },
   "outputs": [
    {
     "data": {
      "text/html": [
       "<div>\n",
       "<style>\n",
       "    .dataframe thead tr:only-child th {\n",
       "        text-align: right;\n",
       "    }\n",
       "\n",
       "    .dataframe thead th {\n",
       "        text-align: left;\n",
       "    }\n",
       "\n",
       "    .dataframe tbody tr th {\n",
       "        vertical-align: top;\n",
       "    }\n",
       "</style>\n",
       "<table border=\"1\" class=\"dataframe\">\n",
       "  <thead>\n",
       "    <tr style=\"text-align: right;\">\n",
       "      <th></th>\n",
       "      <th>Ser No</th>\n",
       "      <th>RollNo</th>\n",
       "      <th>CandidateName</th>\n",
       "      <th>Reporting Date</th>\n",
       "      <th>EmailId</th>\n",
       "      <th>Remarks</th>\n",
       "    </tr>\n",
       "  </thead>\n",
       "  <tbody>\n",
       "    <tr>\n",
       "      <th>36</th>\n",
       "      <td>37</td>\n",
       "      <td>TGC-125/101662</td>\n",
       "      <td>ANKIT KUMAR</td>\n",
       "      <td>03-03-2017</td>\n",
       "      <td>ankitk50@gmail.com</td>\n",
       "      <td>NaN</td>\n",
       "    </tr>\n",
       "  </tbody>\n",
       "</table>\n",
       "</div>"
      ],
      "text/plain": [
       "    Ser No          RollNo CandidateName Reporting Date             EmailId  \\\n",
       "36      37  TGC-125/101662   ANKIT KUMAR     03-03-2017  ankitk50@gmail.com   \n",
       "\n",
       "    Remarks  \n",
       "36      NaN  "
      ]
     },
     "execution_count": 36,
     "metadata": {},
     "output_type": "execute_result"
    }
   ],
   "source": [
    "df[rollno=='TGC-125/101662'] #rollno=df.RollNo"
   ]
  },
  {
   "cell_type": "code",
   "execution_count": null,
   "metadata": {
    "collapsed": true
   },
   "outputs": [],
   "source": []
  },
  {
   "cell_type": "code",
   "execution_count": null,
   "metadata": {
    "collapsed": true
   },
   "outputs": [],
   "source": []
  },
  {
   "cell_type": "code",
   "execution_count": null,
   "metadata": {
    "collapsed": true
   },
   "outputs": [],
   "source": []
  },
  {
   "cell_type": "code",
   "execution_count": null,
   "metadata": {
    "collapsed": true
   },
   "outputs": [],
   "source": []
  },
  {
   "cell_type": "code",
   "execution_count": null,
   "metadata": {
    "collapsed": true
   },
   "outputs": [],
   "source": []
  }
 ],
 "metadata": {
  "kernelspec": {
   "display_name": "Python 2",
   "language": "python",
   "name": "python2"
  },
  "language_info": {
   "codemirror_mode": {
    "name": "ipython",
    "version": 2
   },
   "file_extension": ".py",
   "mimetype": "text/x-python",
   "name": "python",
   "nbconvert_exporter": "python",
   "pygments_lexer": "ipython2",
   "version": "2.7.6"
  }
 },
 "nbformat": 4,
 "nbformat_minor": 2
}
